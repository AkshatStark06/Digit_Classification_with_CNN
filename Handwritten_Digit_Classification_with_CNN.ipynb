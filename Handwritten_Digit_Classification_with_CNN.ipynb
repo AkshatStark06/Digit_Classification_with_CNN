{
  "nbformat": 4,
  "nbformat_minor": 0,
  "metadata": {
    "colab": {
      "provenance": []
    },
    "kernelspec": {
      "name": "python3",
      "display_name": "Python 3"
    },
    "language_info": {
      "name": "python"
    }
  },
  "cells": [
    {
      "cell_type": "markdown",
      "source": [
        "# Convolutional Neural Network for MNIST Dataset Classification"
      ],
      "metadata": {
        "id": "e3xs3D0Dk4PD"
      }
    },
    {
      "cell_type": "markdown",
      "source": [
        "## Basic Setup"
      ],
      "metadata": {
        "id": "omS6CCB6k36V"
      }
    },
    {
      "cell_type": "code",
      "execution_count": 2,
      "metadata": {
        "id": "zFhG_mrKxpKG"
      },
      "outputs": [],
      "source": [
        "import pandas as pd\n",
        "import numpy as np"
      ]
    },
    {
      "cell_type": "code",
      "source": [
        "from tensorflow.keras.datasets import mnist\n",
        "# (training_images, training_images_labels), (testing_images, testing_images_labels)\n",
        "(x_train, y_train), (x_test, y_test) = mnist.load_data()"
      ],
      "metadata": {
        "colab": {
          "base_uri": "https://localhost:8080/"
        },
        "id": "o3IabJ-Sx-Qh",
        "outputId": "e93f4417-cda7-4195-b479-0b9bb3f9b135"
      },
      "execution_count": 3,
      "outputs": [
        {
          "output_type": "stream",
          "name": "stdout",
          "text": [
            "Downloading data from https://storage.googleapis.com/tensorflow/tf-keras-datasets/mnist.npz\n",
            "\u001b[1m11490434/11490434\u001b[0m \u001b[32m━━━━━━━━━━━━━━━━━━━━\u001b[0m\u001b[37m\u001b[0m \u001b[1m0s\u001b[0m 0us/step\n"
          ]
        }
      ]
    },
    {
      "cell_type": "markdown",
      "source": [
        "## Visualizing the Image Data"
      ],
      "metadata": {
        "id": "7ujxBqDJlKep"
      }
    },
    {
      "cell_type": "code",
      "source": [
        "import matplotlib.pyplot as plt\n",
        "%matplotlib inline"
      ],
      "metadata": {
        "id": "jxM3Eyg3yoS5"
      },
      "execution_count": 4,
      "outputs": []
    },
    {
      "cell_type": "code",
      "source": [
        "# There are 60K images in the training dataset\n",
        "x_train.shape"
      ],
      "metadata": {
        "colab": {
          "base_uri": "https://localhost:8080/"
        },
        "id": "ticS5QrsywuJ",
        "outputId": "84e1e7e4-5ef1-4632-bb7a-b9f50247bee8"
      },
      "execution_count": 5,
      "outputs": [
        {
          "output_type": "execute_result",
          "data": {
            "text/plain": [
              "(60000, 28, 28)"
            ]
          },
          "metadata": {},
          "execution_count": 5
        }
      ]
    },
    {
      "cell_type": "code",
      "source": [
        "single_image = x_train[0]"
      ],
      "metadata": {
        "id": "BtzPF5Zpy7F-"
      },
      "execution_count": 6,
      "outputs": []
    },
    {
      "cell_type": "markdown",
      "source": [
        "single_image"
      ],
      "metadata": {
        "id": "ZYnvIdhE0Ghp"
      }
    },
    {
      "cell_type": "code",
      "source": [
        "single_image.shape"
      ],
      "metadata": {
        "colab": {
          "base_uri": "https://localhost:8080/"
        },
        "id": "t-KIwerB0JSw",
        "outputId": "e540f713-ec82-40e1-8594-28497fba2dc0"
      },
      "execution_count": 7,
      "outputs": [
        {
          "output_type": "execute_result",
          "data": {
            "text/plain": [
              "(28, 28)"
            ]
          },
          "metadata": {},
          "execution_count": 7
        }
      ]
    },
    {
      "cell_type": "code",
      "source": [
        "plt.imshow(single_image, cmap='binary')"
      ],
      "metadata": {
        "id": "LNarHHSM0RTe",
        "colab": {
          "base_uri": "https://localhost:8080/",
          "height": 448
        },
        "outputId": "5441b2a4-7110-4a55-9b7d-6212dcdf3811"
      },
      "execution_count": 8,
      "outputs": [
        {
          "output_type": "execute_result",
          "data": {
            "text/plain": [
              "<matplotlib.image.AxesImage at 0x7c54b802e570>"
            ]
          },
          "metadata": {},
          "execution_count": 8
        },
        {
          "output_type": "display_data",
          "data": {
            "text/plain": [
              "<Figure size 640x480 with 1 Axes>"
            ],
            "image/png": "[encoded data removed]"
          },
          "metadata": {}
        }
      ]
    },
    {
      "cell_type": "markdown",
      "source": [
        "## Preprocessing DATA"
      ],
      "metadata": {
        "id": "w4cJ5nTjlV4Y"
      }
    },
    {
      "cell_type": "markdown",
      "source": [
        "## Preprocessing the labels"
      ],
      "metadata": {
        "id": "YC5DkVlLlcek"
      }
    },
    {
      "cell_type": "code",
      "source": [
        "y_train"
      ],
      "metadata": {
        "colab": {
          "base_uri": "https://localhost:8080/"
        },
        "id": "EDSQwFFilaq6",
        "outputId": "1ce4ec53-0343-489c-da14-1c1203dabfd0"
      },
      "execution_count": 9,
      "outputs": [
        {
          "output_type": "execute_result",
          "data": {
            "text/plain": [
              "array([5, 0, 4, ..., 5, 6, 8], dtype=uint8)"
            ]
          },
          "metadata": {},
          "execution_count": 9
        }
      ]
    },
    {
      "cell_type": "code",
      "source": [
        "y_train[0]"
      ],
      "metadata": {
        "colab": {
          "base_uri": "https://localhost:8080/"
        },
        "id": "QdSGKyo8lztb",
        "outputId": "c913f88b-0592-4719-8a4a-20f0d603b01b"
      },
      "execution_count": 10,
      "outputs": [
        {
          "output_type": "execute_result",
          "data": {
            "text/plain": [
              "np.uint8(5)"
            ]
          },
          "metadata": {},
          "execution_count": 10
        }
      ]
    },
    {
      "cell_type": "code",
      "source": [
        "y_test"
      ],
      "metadata": {
        "colab": {
          "base_uri": "https://localhost:8080/"
        },
        "id": "7vbUe1BJl6QV",
        "outputId": "41864a19-bae0-49dc-d8ab-064a6366fbed"
      },
      "execution_count": 11,
      "outputs": [
        {
          "output_type": "execute_result",
          "data": {
            "text/plain": [
              "array([7, 2, 1, ..., 4, 5, 6], dtype=uint8)"
            ]
          },
          "metadata": {},
          "execution_count": 11
        }
      ]
    },
    {
      "cell_type": "markdown",
      "source": [
        "Hmmm, looks like our labels are literally categories of numbers. We need to translate this to be \"one hot encoded\" so our CNN can understand, otherwise it will think this is some sort of regression problem on a continuous axis. Luckily , Keras has an easy to use function for this:"
      ],
      "metadata": {
        "id": "WbNWX34rl_WU"
      }
    },
    {
      "cell_type": "code",
      "source": [
        "from tensorflow.keras.utils import to_categorical\n",
        "y_example = to_categorical(y_train)\n",
        "y_example"
      ],
      "metadata": {
        "colab": {
          "base_uri": "https://localhost:8080/"
        },
        "id": "Dx5DCR1el-Yw",
        "outputId": "7be25ad2-01b1-4f68-bd36-a9a0fd731912"
      },
      "execution_count": 12,
      "outputs": [
        {
          "output_type": "execute_result",
          "data": {
            "text/plain": [
              "array([[0., 0., 0., ..., 0., 0., 0.],\n",
              "       [1., 0., 0., ..., 0., 0., 0.],\n",
              "       [0., 0., 0., ..., 0., 0., 0.],\n",
              "       ...,\n",
              "       [0., 0., 0., ..., 0., 0., 0.],\n",
              "       [0., 0., 0., ..., 0., 0., 0.],\n",
              "       [0., 0., 0., ..., 0., 1., 0.]])"
            ]
          },
          "metadata": {},
          "execution_count": 12
        }
      ]
    },
    {
      "cell_type": "code",
      "source": [
        "y_example.shape"
      ],
      "metadata": {
        "colab": {
          "base_uri": "https://localhost:8080/"
        },
        "id": "1LWZI9ZrmqDi",
        "outputId": "2827c51b-1f5e-4205-bd69-cc47bdbd423b"
      },
      "execution_count": 13,
      "outputs": [
        {
          "output_type": "execute_result",
          "data": {
            "text/plain": [
              "(60000, 10)"
            ]
          },
          "metadata": {},
          "execution_count": 13
        }
      ]
    },
    {
      "cell_type": "code",
      "source": [
        "y_example[0]\n",
        "# [0,1,2,3,4,5,6,7,8,9]\n",
        "# [0,0,0,0,0,1,0,0,0,0]"
      ],
      "metadata": {
        "colab": {
          "base_uri": "https://localhost:8080/"
        },
        "id": "mVHjKXXhmt77",
        "outputId": "a72dad0e-65a1-4367-e709-e1c7966eea34"
      },
      "execution_count": 14,
      "outputs": [
        {
          "output_type": "execute_result",
          "data": {
            "text/plain": [
              "array([0., 0., 0., 0., 0., 1., 0., 0., 0., 0.])"
            ]
          },
          "metadata": {},
          "execution_count": 14
        }
      ]
    },
    {
      "cell_type": "code",
      "source": [
        "y_cat_train= to_categorical(y_train,10)\n",
        "y_cat_test = to_categorical(y_test,10)"
      ],
      "metadata": {
        "id": "fLMYolnLm-qq"
      },
      "execution_count": 15,
      "outputs": []
    },
    {
      "cell_type": "markdown",
      "source": [
        "## Preprocessing the input"
      ],
      "metadata": {
        "id": "XW8LjdxGnX1H"
      }
    },
    {
      "cell_type": "code",
      "source": [
        "print(single_image.max())\n",
        "print(single_image.min())"
      ],
      "metadata": {
        "colab": {
          "base_uri": "https://localhost:8080/"
        },
        "id": "8O1pFBNFnndb",
        "outputId": "4bd50694-1cda-488a-9477-cbc7dccd2e0a"
      },
      "execution_count": 17,
      "outputs": [
        {
          "output_type": "stream",
          "name": "stdout",
          "text": [
            "255\n",
            "0\n"
          ]
        }
      ]
    },
    {
      "cell_type": "code",
      "source": [
        "x_train= x_train/255\n",
        "x_test= x_test/255"
      ],
      "metadata": {
        "id": "4_e3EL79nucA"
      },
      "execution_count": 18,
      "outputs": []
    },
    {
      "cell_type": "code",
      "source": [
        "scaled_single = x_train[0]"
      ],
      "metadata": {
        "id": "dnRx8T2ZoB05"
      },
      "execution_count": 20,
      "outputs": []
    },
    {
      "cell_type": "code",
      "source": [
        "scaled_single.max()"
      ],
      "metadata": {
        "colab": {
          "base_uri": "https://localhost:8080/"
        },
        "id": "Z32iBzWHoR3_",
        "outputId": "7591955a-463e-4dad-c08d-500fbc8ad3e9"
      },
      "execution_count": 25,
      "outputs": [
        {
          "output_type": "execute_result",
          "data": {
            "text/plain": [
              "np.float64(1.0)"
            ]
          },
          "metadata": {},
          "execution_count": 25
        }
      ]
    },
    {
      "cell_type": "code",
      "source": [
        "scaled_single.min()"
      ],
      "metadata": {
        "colab": {
          "base_uri": "https://localhost:8080/"
        },
        "id": "jYgVZGDwooVL",
        "outputId": "cd030412-e494-4561-e1dc-4a440da6dc4f"
      },
      "execution_count": 26,
      "outputs": [
        {
          "output_type": "execute_result",
          "data": {
            "text/plain": [
              "np.float64(0.0)"
            ]
          },
          "metadata": {},
          "execution_count": 26
        }
      ]
    },
    {
      "cell_type": "code",
      "source": [
        "plt.imshow(scaled_single, cmap='binary')"
      ],
      "metadata": {
        "colab": {
          "base_uri": "https://localhost:8080/",
          "height": 448
        },
        "id": "PSNoR_aiorz5",
        "outputId": "840edd4b-54d6-433c-8786-399073c2310e"
      },
      "execution_count": 27,
      "outputs": [
        {
          "output_type": "execute_result",
          "data": {
            "text/plain": [
              "<matplotlib.image.AxesImage at 0x7c54aba9b4a0>"
            ]
          },
          "metadata": {},
          "execution_count": 27
        },
        {
          "output_type": "display_data",
          "data": {
            "text/plain": [
              "<Figure size 640x480 with 1 Axes>"
            ],
            "image/png": "[encoded data removed]"
          },
          "metadata": {}
        }
      ]
    },
    {
      "cell_type": "markdown",
      "source": [
        "## Reshaping the Data"
      ],
      "metadata": {
        "id": "VWysgXd0o3v1"
      }
    },
    {
      "cell_type": "markdown",
      "source": [
        "Right now our data is 60,000 images stored in 28 by 28 pixel array formation.\n",
        "\n",
        "This is correct for a CNN, but we need to add one more dimension to show we're dealing with 1 RGB channel (since technically the images are in black and white, only showing values from 0-255 on a single channel), an color image would have 3 values in a tuple."
      ],
      "metadata": {
        "id": "ophbno16o3En"
      }
    },
    {
      "cell_type": "code",
      "source": [
        "#Reshape to include channel dimension(in this case, 1 channel)\n",
        "x_train = x_train.reshape(60000,28,28,1)\n",
        "x_test = x_test.reshape(10000,28,28,1)"
      ],
      "metadata": {
        "id": "L3juWkH9o2fy"
      },
      "execution_count": 28,
      "outputs": []
    },
    {
      "cell_type": "code",
      "source": [
        "print(x_train.shape)\n",
        "print(x_test.shape)"
      ],
      "metadata": {
        "colab": {
          "base_uri": "https://localhost:8080/"
        },
        "id": "OO6AE_3fp0p3",
        "outputId": "c824fcde-ee0e-4de0-fa6c-bbd573aa47ae"
      },
      "execution_count": 29,
      "outputs": [
        {
          "output_type": "stream",
          "name": "stdout",
          "text": [
            "(60000, 28, 28, 1)\n",
            "(10000, 28, 28, 1)\n"
          ]
        }
      ]
    },
    {
      "cell_type": "markdown",
      "source": [
        "## Model Instantistion"
      ],
      "metadata": {
        "id": "9WP-rWDup80r"
      }
    },
    {
      "cell_type": "code",
      "source": [
        "from tensorflow.keras.models import Sequential\n",
        "from tensorflow.keras.layers import Conv2D, MaxPool2D, Flatten, Dense"
      ],
      "metadata": {
        "id": "PgPtzGEXqETi"
      },
      "execution_count": 30,
      "outputs": []
    },
    {
      "cell_type": "code",
      "source": [
        "help(Conv2D)"
      ],
      "metadata": {
        "colab": {
          "base_uri": "https://localhost:8080/"
        },
        "collapsed": true,
        "id": "lo6HWaLUqZt0",
        "outputId": "bce791f8-189b-43fe-dde3-b3b2a69708e2"
      },
      "execution_count": 31,
      "outputs": [
        {
          "output_type": "stream",
          "name": "stdout",
          "text": [
            "Help on class Conv2D in module keras.src.layers.convolutional.conv2d:\n",
            "\n",
            "class Conv2D(keras.src.layers.convolutional.base_conv.BaseConv)\n",
            " |  Conv2D(filters, kernel_size, strides=(1, 1), padding='valid', data_format=None, dilation_rate=(1, 1), groups=1, activation=None, use_bias=True, kernel_initializer='glorot_uniform', bias_initializer='zeros', kernel_regularizer=None, bias_regularizer=None, activity_regularizer=None, kernel_constraint=None, bias_constraint=None, **kwargs)\n",
            " |\n",
            " |  2D convolution layer.\n",
            " |\n",
            " |  This layer creates a convolution kernel that is convolved with the layer\n",
            " |  input over a 2D spatial (or temporal) dimension (height and width) to\n",
            " |  produce a tensor of outputs. If `use_bias` is True, a bias vector is created\n",
            " |  and added to the outputs. Finally, if `activation` is not `None`, it is\n",
            " |  applied to the outputs as well.\n",
            " |\n",
            " |  Note on numerical precision: While in general Keras operation execution\n",
            " |  results are identical across backends up to 1e-7 precision in float32,\n",
            " |  `Conv2D` operations may show larger variations. Due to the large\n",
            " |  number of element-wise multiplications and additions in convolution\n",
            " |  operations, especially with large inputs or kernel sizes, accumulated\n",
            " |  floating-point differences can exceed this 1e-7 threshold. These variations\n",
            " |  are particularly noticeable when using different backends (e.g., TensorFlow\n",
            " |  vs JAX) or different hardware.\n",
            " |\n",
            " |  Args:\n",
            " |      filters: int, the dimension of the output space (the number of filters\n",
            " |          in the convolution).\n",
            " |      kernel_size: int or tuple/list of 2 integer, specifying the size of the\n",
            " |          convolution window.\n",
            " |      strides: int or tuple/list of 2 integer, specifying the stride length\n",
            " |          of the convolution. `strides > 1` is incompatible with\n",
            " |          `dilation_rate > 1`.\n",
            " |      padding: string, either `\"valid\"` or `\"same\"` (case-insensitive).\n",
            " |          `\"valid\"` means no padding. `\"same\"` results in padding evenly to\n",
            " |          the left/right or up/down of the input. When `padding=\"same\"` and\n",
            " |          `strides=1`, the output has the same size as the input.\n",
            " |      data_format: string, either `\"channels_last\"` or `\"channels_first\"`.\n",
            " |          The ordering of the dimensions in the inputs. `\"channels_last\"`\n",
            " |          corresponds to inputs with shape\n",
            " |          `(batch_size, height, width, channels)`\n",
            " |          while `\"channels_first\"` corresponds to inputs with shape\n",
            " |          `(batch_size, channels, height, width)`. It defaults to the\n",
            " |          `image_data_format` value found in your Keras config file at\n",
            " |          `~/.keras/keras.json`. If you never set it, then it will be\n",
            " |          `\"channels_last\"`.\n",
            " |      dilation_rate: int or tuple/list of 2 integers, specifying the dilation\n",
            " |          rate to use for dilated convolution.\n",
            " |      groups: A positive int specifying the number of groups in which the\n",
            " |          input is split along the channel axis. Each group is convolved\n",
            " |          separately with `filters // groups` filters. The output is the\n",
            " |          concatenation of all the `groups` results along the channel axis.\n",
            " |          Input channels and `filters` must both be divisible by `groups`.\n",
            " |      activation: Activation function. If `None`, no activation is applied.\n",
            " |      use_bias: bool, if `True`, bias will be added to the output.\n",
            " |      kernel_initializer: Initializer for the convolution kernel. If `None`,\n",
            " |          the default initializer (`\"glorot_uniform\"`) will be used.\n",
            " |      bias_initializer: Initializer for the bias vector. If `None`, the\n",
            " |          default initializer (`\"zeros\"`) will be used.\n",
            " |      kernel_regularizer: Optional regularizer for the convolution kernel.\n",
            " |      bias_regularizer: Optional regularizer for the bias vector.\n",
            " |      activity_regularizer: Optional regularizer function for the output.\n",
            " |      kernel_constraint: Optional projection function to be applied to the\n",
            " |          kernel after being updated by an `Optimizer` (e.g. used to implement\n",
            " |          norm constraints or value constraints for layer weights). The\n",
            " |          function must take as input the unprojected variable and must return\n",
            " |          the projected variable (which must have the same shape). Constraints\n",
            " |          are not safe to use when doing asynchronous distributed training.\n",
            " |      bias_constraint: Optional projection function to be applied to the\n",
            " |          bias after being updated by an `Optimizer`.\n",
            " |\n",
            " |  Input shape:\n",
            " |\n",
            " |  - If `data_format=\"channels_last\"`:\n",
            " |      A 4D tensor with shape: `(batch_size, height, width, channels)`\n",
            " |  - If `data_format=\"channels_first\"`:\n",
            " |      A 4D tensor with shape: `(batch_size, channels, height, width)`\n",
            " |\n",
            " |  Output shape:\n",
            " |\n",
            " |  - If `data_format=\"channels_last\"`:\n",
            " |      A 4D tensor with shape: `(batch_size, new_height, new_width, filters)`\n",
            " |  - If `data_format=\"channels_first\"`:\n",
            " |      A 4D tensor with shape: `(batch_size, filters, new_height, new_width)`\n",
            " |\n",
            " |  Returns:\n",
            " |      A 4D tensor representing `activation(conv2d(inputs, kernel) + bias)`.\n",
            " |\n",
            " |  Raises:\n",
            " |      ValueError: when both `strides > 1` and `dilation_rate > 1`.\n",
            " |\n",
            " |  Example:\n",
            " |\n",
            " |  >>> x = np.random.rand(4, 10, 10, 128)\n",
            " |  >>> y = keras.layers.Conv2D(32, 3, activation='relu')(x)\n",
            " |  >>> print(y.shape)\n",
            " |  (4, 8, 8, 32)\n",
            " |\n",
            " |  Method resolution order:\n",
            " |      Conv2D\n",
            " |      keras.src.layers.convolutional.base_conv.BaseConv\n",
            " |      keras.src.layers.layer.Layer\n",
            " |      keras.src.backend.tensorflow.layer.TFLayer\n",
            " |      keras.src.backend.tensorflow.trackable.KerasAutoTrackable\n",
            " |      tensorflow.python.trackable.autotrackable.AutoTrackable\n",
            " |      tensorflow.python.trackable.base.Trackable\n",
            " |      keras.src.ops.operation.Operation\n",
            " |      keras.src.saving.keras_saveable.KerasSaveable\n",
            " |      builtins.object\n",
            " |\n",
            " |  Methods defined here:\n",
            " |\n",
            " |  __init__(self, filters, kernel_size, strides=(1, 1), padding='valid', data_format=None, dilation_rate=(1, 1), groups=1, activation=None, use_bias=True, kernel_initializer='glorot_uniform', bias_initializer='zeros', kernel_regularizer=None, bias_regularizer=None, activity_regularizer=None, kernel_constraint=None, bias_constraint=None, **kwargs)\n",
            " |      Initialize self.  See help(type(self)) for accurate signature.\n",
            " |\n",
            " |  ----------------------------------------------------------------------\n",
            " |  Methods inherited from keras.src.layers.convolutional.base_conv.BaseConv:\n",
            " |\n",
            " |  build(self, input_shape)\n",
            " |\n",
            " |  call(self, inputs)\n",
            " |\n",
            " |  compute_output_shape(self, input_shape)\n",
            " |\n",
            " |  convolution_op(self, inputs, kernel)\n",
            " |\n",
            " |  enable_lora(self, rank, lora_alpha=None, a_initializer='he_uniform', b_initializer='zeros')\n",
            " |\n",
            " |  get_config(self)\n",
            " |      Returns the config of the object.\n",
            " |\n",
            " |      An object config is a Python dictionary (serializable)\n",
            " |      containing the information needed to re-instantiate it.\n",
            " |\n",
            " |  load_own_variables(self, store)\n",
            " |      Loads the state of the layer.\n",
            " |\n",
            " |      You can override this method to take full control of how the state of\n",
            " |      the layer is loaded upon calling `keras.models.load_model()`.\n",
            " |\n",
            " |      Args:\n",
            " |          store: Dict from which the state of the model will be loaded.\n",
            " |\n",
            " |  save_own_variables(self, store)\n",
            " |      Saves the state of the layer.\n",
            " |\n",
            " |      You can override this method to take full control of how the state of\n",
            " |      the layer is saved upon calling `model.save()`.\n",
            " |\n",
            " |      Args:\n",
            " |          store: Dict where the state of the model will be saved.\n",
            " |\n",
            " |  ----------------------------------------------------------------------\n",
            " |  Readonly properties inherited from keras.src.layers.convolutional.base_conv.BaseConv:\n",
            " |\n",
            " |  kernel\n",
            " |\n",
            " |  ----------------------------------------------------------------------\n",
            " |  Methods inherited from keras.src.layers.layer.Layer:\n",
            " |\n",
            " |  __call__(self, *args, **kwargs)\n",
            " |      Call self as a function.\n",
            " |\n",
            " |  __delattr__(self, name)\n",
            " |      Implement delattr(self, name).\n",
            " |\n",
            " |  __repr__(self)\n",
            " |      Return repr(self).\n",
            " |\n",
            " |  __setattr__(self, name, value)\n",
            " |      Support self.foo = trackable syntax.\n",
            " |\n",
            " |  __str__(self)\n",
            " |      Return str(self).\n",
            " |\n",
            " |  add_loss(self, loss)\n",
            " |      Can be called inside of the `call()` method to add a scalar loss.\n",
            " |\n",
            " |      Example:\n",
            " |\n",
            " |      ```python\n",
            " |      class MyLayer(Layer):\n",
            " |          ...\n",
            " |          def call(self, x):\n",
            " |              self.add_loss(ops.sum(x))\n",
            " |              return x\n",
            " |      ```\n",
            " |\n",
            " |  add_metric(self, *args, **kwargs)\n",
            " |\n",
            " |  add_variable(self, shape, initializer, dtype=None, trainable=True, autocast=True, regularizer=None, constraint=None, name=None)\n",
            " |      Add a weight variable to the layer.\n",
            " |\n",
            " |      Alias of `add_weight()`.\n",
            " |\n",
            " |  add_weight(self, shape=None, initializer=None, dtype=None, trainable=True, autocast=True, regularizer=None, constraint=None, aggregation='none', overwrite_with_gradient=False, name=None)\n",
            " |      Add a weight variable to the layer.\n",
            " |\n",
            " |      Args:\n",
            " |          shape: Shape tuple for the variable. Must be fully-defined\n",
            " |              (no `None` entries). Defaults to `()` (scalar) if unspecified.\n",
            " |          initializer: Initializer object to use to populate the initial\n",
            " |              variable value, or string name of a built-in initializer\n",
            " |              (e.g. `\"random_normal\"`). If unspecified, defaults to\n",
            " |              `\"glorot_uniform\"` for floating-point variables and to `\"zeros\"`\n",
            " |              for all other types (e.g. int, bool).\n",
            " |          dtype: Dtype of the variable to create, e.g. `\"float32\"`. If\n",
            " |              unspecified, defaults to the layer's variable dtype\n",
            " |              (which itself defaults to `\"float32\"` if unspecified).\n",
            " |          trainable: Boolean, whether the variable should be trainable via\n",
            " |              backprop or whether its updates are managed manually. Defaults\n",
            " |              to `True`.\n",
            " |          autocast: Boolean, whether to autocast layers variables when\n",
            " |              accessing them. Defaults to `True`.\n",
            " |          regularizer: Regularizer object to call to apply penalty on the\n",
            " |              weight. These penalties are summed into the loss function\n",
            " |              during optimization. Defaults to `None`.\n",
            " |          constraint: Contrainst object to call on the variable after any\n",
            " |              optimizer update, or string name of a built-in constraint.\n",
            " |              Defaults to `None`.\n",
            " |          aggregation: Optional string, one of `None`, `\"none\"`, `\"mean\"`,\n",
            " |              `\"sum\"` or `\"only_first_replica\"`. Annotates the variable with\n",
            " |              the type of multi-replica aggregation to be used for this\n",
            " |              variable when writing custom data parallel training loops.\n",
            " |              Defaults to `\"none\"`.\n",
            " |          overwrite_with_gradient: Boolean, whether to overwrite the variable\n",
            " |              with the computed gradient. This is useful for float8 training.\n",
            " |              Defaults to `False`.\n",
            " |          name: String name of the variable. Useful for debugging purposes.\n",
            " |\n",
            " |  build_from_config(self, config)\n",
            " |      Builds the layer's states with the supplied config dict.\n",
            " |\n",
            " |      By default, this method calls the `build(config[\"input_shape\"])` method,\n",
            " |      which creates weights based on the layer's input shape in the supplied\n",
            " |      config. If your config contains other information needed to load the\n",
            " |      layer's state, you should override this method.\n",
            " |\n",
            " |      Args:\n",
            " |          config: Dict containing the input shape associated with this layer.\n",
            " |\n",
            " |  compute_mask(self, inputs, previous_mask)\n",
            " |\n",
            " |  compute_output_spec(self, *args, **kwargs)\n",
            " |\n",
            " |  count_params(self)\n",
            " |      Count the total number of scalars composing the weights.\n",
            " |\n",
            " |      Returns:\n",
            " |          An integer count.\n",
            " |\n",
            " |  get_build_config(self)\n",
            " |      Returns a dictionary with the layer's input shape.\n",
            " |\n",
            " |      This method returns a config dict that can be used by\n",
            " |      `build_from_config(config)` to create all states (e.g. Variables and\n",
            " |      Lookup tables) needed by the layer.\n",
            " |\n",
            " |      By default, the config only contains the input shape that the layer\n",
            " |      was built with. If you're writing a custom layer that creates state in\n",
            " |      an unusual way, you should override this method to make sure this state\n",
            " |      is already created when Keras attempts to load its value upon model\n",
            " |      loading.\n",
            " |\n",
            " |      Returns:\n",
            " |          A dict containing the input shape associated with the layer.\n",
            " |\n",
            " |  get_weights(self)\n",
            " |      Return the values of `layer.weights` as a list of NumPy arrays.\n",
            " |\n",
            " |  quantize(self, mode, type_check=True)\n",
            " |\n",
            " |  quantized_build(self, input_shape, mode)\n",
            " |\n",
            " |  quantized_call(self, *args, **kwargs)\n",
            " |\n",
            " |  rematerialized_call(self, layer_call, *args, **kwargs)\n",
            " |      Enable rematerialization dynamically for layer's call method.\n",
            " |\n",
            " |      Args:\n",
            " |          layer_call: The original `call` method of a layer.\n",
            " |\n",
            " |      Returns:\n",
            " |          Rematerialized layer's `call` method.\n",
            " |\n",
            " |  set_weights(self, weights)\n",
            " |      Sets the values of `layer.weights` from a list of NumPy arrays.\n",
            " |\n",
            " |  stateless_call(self, trainable_variables, non_trainable_variables, *args, return_losses=False, **kwargs)\n",
            " |      Call the layer without any side effects.\n",
            " |\n",
            " |      Args:\n",
            " |          trainable_variables: List of trainable variables of the model.\n",
            " |          non_trainable_variables: List of non-trainable variables of the\n",
            " |              model.\n",
            " |          *args: Positional arguments to be passed to `call()`.\n",
            " |          return_losses: If `True`, `stateless_call()` will return the list of\n",
            " |              losses created during `call()` as part of its return values.\n",
            " |          **kwargs: Keyword arguments to be passed to `call()`.\n",
            " |\n",
            " |      Returns:\n",
            " |          A tuple. By default, returns `(outputs, non_trainable_variables)`.\n",
            " |              If `return_losses = True`, then returns\n",
            " |              `(outputs, non_trainable_variables, losses)`.\n",
            " |\n",
            " |      Note: `non_trainable_variables` include not only non-trainable weights\n",
            " |      such as `BatchNormalization` statistics, but also RNG seed state\n",
            " |      (if there are any random operations part of the layer, such as dropout),\n",
            " |      and `Metric` state (if there are any metrics attached to the layer).\n",
            " |      These are all elements of state of the layer.\n",
            " |\n",
            " |      Example:\n",
            " |\n",
            " |      ```python\n",
            " |      model = ...\n",
            " |      data = ...\n",
            " |      trainable_variables = model.trainable_variables\n",
            " |      non_trainable_variables = model.non_trainable_variables\n",
            " |      # Call the model with zero side effects\n",
            " |      outputs, non_trainable_variables = model.stateless_call(\n",
            " |          trainable_variables,\n",
            " |          non_trainable_variables,\n",
            " |          data,\n",
            " |      )\n",
            " |      # Attach the updated state to the model\n",
            " |      # (until you do this, the model is still in its pre-call state).\n",
            " |      for ref_var, value in zip(\n",
            " |          model.non_trainable_variables, non_trainable_variables\n",
            " |      ):\n",
            " |          ref_var.assign(value)\n",
            " |      ```\n",
            " |\n",
            " |  symbolic_call(self, *args, **kwargs)\n",
            " |\n",
            " |  ----------------------------------------------------------------------\n",
            " |  Static methods inherited from keras.src.layers.layer.Layer:\n",
            " |\n",
            " |  __new__(cls, *args, **kwargs)\n",
            " |      Create and return a new object.  See help(type) for accurate signature.\n",
            " |\n",
            " |  ----------------------------------------------------------------------\n",
            " |  Readonly properties inherited from keras.src.layers.layer.Layer:\n",
            " |\n",
            " |  compute_dtype\n",
            " |      The dtype of the computations performed by the layer.\n",
            " |\n",
            " |  dtype\n",
            " |      Alias of `layer.variable_dtype`.\n",
            " |\n",
            " |  input_dtype\n",
            " |      The dtype layer inputs should be converted to.\n",
            " |\n",
            " |  losses\n",
            " |      List of scalar losses from `add_loss`, regularizers and sublayers.\n",
            " |\n",
            " |  metrics\n",
            " |      List of all metrics.\n",
            " |\n",
            " |  metrics_variables\n",
            " |      List of all metric variables.\n",
            " |\n",
            " |  non_trainable_variables\n",
            " |      List of all non-trainable layer state.\n",
            " |\n",
            " |      This extends `layer.non_trainable_weights` to include all state used by\n",
            " |      the layer including state for metrics and `SeedGenerator`s.\n",
            " |\n",
            " |  non_trainable_weights\n",
            " |      List of all non-trainable weight variables of the layer.\n",
            " |\n",
            " |      These are the weights that should not be updated by the optimizer during\n",
            " |      training. Unlike, `layer.non_trainable_variables` this excludes metric\n",
            " |      state and random seeds.\n",
            " |\n",
            " |  path\n",
            " |      The path of the layer.\n",
            " |\n",
            " |      If the layer has not been built yet, it will be `None`.\n",
            " |\n",
            " |  quantization_mode\n",
            " |      The quantization mode of this layer, `None` if not quantized.\n",
            " |\n",
            " |  trainable_variables\n",
            " |      List of all trainable layer state.\n",
            " |\n",
            " |      This is equivalent to `layer.trainable_weights`.\n",
            " |\n",
            " |  trainable_weights\n",
            " |      List of all trainable weight variables of the layer.\n",
            " |\n",
            " |      These are the weights that get updated by the optimizer during training.\n",
            " |\n",
            " |  variable_dtype\n",
            " |      The dtype of the state (weights) of the layer.\n",
            " |\n",
            " |  variables\n",
            " |      List of all layer state, including random seeds.\n",
            " |\n",
            " |      This extends `layer.weights` to include all state used by the layer\n",
            " |      including `SeedGenerator`s.\n",
            " |\n",
            " |      Note that metrics variables are not included here, use\n",
            " |      `metrics_variables` to visit all the metric variables.\n",
            " |\n",
            " |  weights\n",
            " |      List of all weight variables of the layer.\n",
            " |\n",
            " |      Unlike, `layer.variables` this excludes metric state and random seeds.\n",
            " |\n",
            " |  ----------------------------------------------------------------------\n",
            " |  Data descriptors inherited from keras.src.layers.layer.Layer:\n",
            " |\n",
            " |  dtype_policy\n",
            " |\n",
            " |  input_spec\n",
            " |\n",
            " |  supports_masking\n",
            " |      Whether this layer supports computing a mask using `compute_mask`.\n",
            " |\n",
            " |  trainable\n",
            " |      Settable boolean, whether this layer should be trainable or not.\n",
            " |\n",
            " |  ----------------------------------------------------------------------\n",
            " |  Data descriptors inherited from tensorflow.python.trackable.base.Trackable:\n",
            " |\n",
            " |  __dict__\n",
            " |      dictionary for instance variables\n",
            " |\n",
            " |  __weakref__\n",
            " |      list of weak references to the object\n",
            " |\n",
            " |  ----------------------------------------------------------------------\n",
            " |  Class methods inherited from keras.src.ops.operation.Operation:\n",
            " |\n",
            " |  from_config(config)\n",
            " |      Creates an operation from its config.\n",
            " |\n",
            " |      This method is the reverse of `get_config`, capable of instantiating the\n",
            " |      same operation from the config dictionary.\n",
            " |\n",
            " |      Note: If you override this method, you might receive a serialized dtype\n",
            " |      config, which is a `dict`. You can deserialize it as follows:\n",
            " |\n",
            " |      ```python\n",
            " |      if \"dtype\" in config and isinstance(config[\"dtype\"], dict):\n",
            " |          policy = dtype_policies.deserialize(config[\"dtype\"])\n",
            " |      ```\n",
            " |\n",
            " |      Args:\n",
            " |          config: A Python dictionary, typically the output of `get_config`.\n",
            " |\n",
            " |      Returns:\n",
            " |          An operation instance.\n",
            " |\n",
            " |  ----------------------------------------------------------------------\n",
            " |  Readonly properties inherited from keras.src.ops.operation.Operation:\n",
            " |\n",
            " |  input\n",
            " |      Retrieves the input tensor(s) of a symbolic operation.\n",
            " |\n",
            " |      Only returns the tensor(s) corresponding to the *first time*\n",
            " |      the operation was called.\n",
            " |\n",
            " |      Returns:\n",
            " |          Input tensor or list of input tensors.\n",
            " |\n",
            " |  output\n",
            " |      Retrieves the output tensor(s) of a layer.\n",
            " |\n",
            " |      Only returns the tensor(s) corresponding to the *first time*\n",
            " |      the operation was called.\n",
            " |\n",
            " |      Returns:\n",
            " |          Output tensor or list of output tensors.\n",
            " |\n",
            " |  ----------------------------------------------------------------------\n",
            " |  Methods inherited from keras.src.saving.keras_saveable.KerasSaveable:\n",
            " |\n",
            " |  __reduce__(self)\n",
            " |      __reduce__ is used to customize the behavior of `pickle.pickle()`.\n",
            " |\n",
            " |      The method returns a tuple of two elements: a function, and a list of\n",
            " |      arguments to pass to that function.  In this case we just leverage the\n",
            " |      keras saving library.\n",
            "\n"
          ]
        }
      ]
    },
    {
      "cell_type": "code",
      "source": [
        "model= Sequential()\n",
        "\n",
        "#CONVOLUTIONAL LAYER\n",
        "model.add(Conv2D(filters=16, kernel_size=(4,4), input_shape=(28,28,1), activation='relu'))\n",
        "\n",
        "# POOLING LAYER\n",
        "model.add(MaxPool2D(pool_size=(2,2)))\n",
        "\n",
        "# FLATTEN Images from 28 by 28 to 784 before Final Layer\n",
        "model.add(Flatten())\n",
        "\n",
        "# 128 NEURONS in DENSE HIDDEN LAYER (arbitrary no. of neurons Can be changed)\n",
        "model.add(Dense(128, activation='relu'))\n",
        "\n",
        "#LAST LAYER is the Classifier, Thus 10 Possible Classes\n",
        "model.add(Dense(10,activation='softmax'))\n",
        "\n",
        "#https://keras.io/metrics/\n",
        "model.compile(loss= 'categorical_crossentropy',\n",
        "              optimizer = 'adam',\n",
        "              metrics=['accuracy']) # we can add in additional metrics"
      ],
      "metadata": {
        "colab": {
          "base_uri": "https://localhost:8080/"
        },
        "id": "PDe2yjYQqg4v",
        "outputId": "26939e94-0a21-43d0-f40e-8460d398bf5c"
      },
      "execution_count": 32,
      "outputs": [
        {
          "output_type": "stream",
          "name": "stderr",
          "text": [
            "/usr/local/lib/python3.12/dist-packages/keras/src/layers/convolutional/base_conv.py:113: UserWarning: Do not pass an `input_shape`/`input_dim` argument to a layer. When using Sequential models, prefer using an `Input(shape)` object as the first layer in the model instead.\n",
            "  super().__init__(activity_regularizer=activity_regularizer, **kwargs)\n"
          ]
        }
      ]
    },
    {
      "cell_type": "code",
      "source": [
        "model.summary()"
      ],
      "metadata": {
        "colab": {
          "base_uri": "https://localhost:8080/",
          "height": 300
        },
        "id": "tCmprks7sROz",
        "outputId": "71f5761d-ccae-4785-d5c3-f3944d7eedc7"
      },
      "execution_count": 33,
      "outputs": [
        {
          "output_type": "display_data",
          "data": {
            "text/plain": [
              "\u001b[1mModel: \"sequential\"\u001b[0m\n"
            ],
            "text/html": [
              "<pre style=\"white-space:pre;overflow-x:auto;line-height:normal;font-family:Menlo,'DejaVu Sans Mono',consolas,'Courier New',monospace\"><span style=\"font-weight: bold\">Model: \"sequential\"</span>\n",
              "</pre>\n"
            ]
          },
          "metadata": {}
        },
        {
          "output_type": "display_data",
          "data": {
            "text/plain": [
              "┏━━━━━━━━━━━━━━━━━━━━━━━━━━━━━━━━━┳━━━━━━━━━━━━━━━━━━━━━━━━┳━━━━━━━━━━━━━━━┓\n",
              "┃\u001b[1m \u001b[0m\u001b[1mLayer (type)                   \u001b[0m\u001b[1m \u001b[0m┃\u001b[1m \u001b[0m\u001b[1mOutput Shape          \u001b[0m\u001b[1m \u001b[0m┃\u001b[1m \u001b[0m\u001b[1m      Param #\u001b[0m\u001b[1m \u001b[0m┃\n",
              "┡━━━━━━━━━━━━━━━━━━━━━━━━━━━━━━━━━╇━━━━━━━━━━━━━━━━━━━━━━━━╇━━━━━━━━━━━━━━━┩\n",
              "│ conv2d (\u001b[38;5;33mConv2D\u001b[0m)                 │ (\u001b[38;5;45mNone\u001b[0m, \u001b[38;5;34m25\u001b[0m, \u001b[38;5;34m25\u001b[0m, \u001b[38;5;34m16\u001b[0m)     │           \u001b[38;5;34m272\u001b[0m │\n",
              "├─────────────────────────────────┼────────────────────────┼───────────────┤\n",
              "│ max_pooling2d (\u001b[38;5;33mMaxPooling2D\u001b[0m)    │ (\u001b[38;5;45mNone\u001b[0m, \u001b[38;5;34m12\u001b[0m, \u001b[38;5;34m12\u001b[0m, \u001b[38;5;34m16\u001b[0m)     │             \u001b[38;5;34m0\u001b[0m │\n",
              "├─────────────────────────────────┼────────────────────────┼───────────────┤\n",
              "│ flatten (\u001b[38;5;33mFlatten\u001b[0m)               │ (\u001b[38;5;45mNone\u001b[0m, \u001b[38;5;34m2304\u001b[0m)           │             \u001b[38;5;34m0\u001b[0m │\n",
              "├─────────────────────────────────┼────────────────────────┼───────────────┤\n",
              "│ dense (\u001b[38;5;33mDense\u001b[0m)                   │ (\u001b[38;5;45mNone\u001b[0m, \u001b[38;5;34m128\u001b[0m)            │       \u001b[38;5;34m295,040\u001b[0m │\n",
              "├─────────────────────────────────┼────────────────────────┼───────────────┤\n",
              "│ dense_1 (\u001b[38;5;33mDense\u001b[0m)                 │ (\u001b[38;5;45mNone\u001b[0m, \u001b[38;5;34m10\u001b[0m)             │         \u001b[38;5;34m1,290\u001b[0m │\n",
              "└─────────────────────────────────┴────────────────────────┴───────────────┘\n"
            ],
            "text/html": [
              "<pre style=\"white-space:pre;overflow-x:auto;line-height:normal;font-family:Menlo,'DejaVu Sans Mono',consolas,'Courier New',monospace\">┏━━━━━━━━━━━━━━━━━━━━━━━━━━━━━━━━━┳━━━━━━━━━━━━━━━━━━━━━━━━┳━━━━━━━━━━━━━━━┓\n",
              "┃<span style=\"font-weight: bold\"> Layer (type)                    </span>┃<span style=\"font-weight: bold\"> Output Shape           </span>┃<span style=\"font-weight: bold\">       Param # </span>┃\n",
              "┡━━━━━━━━━━━━━━━━━━━━━━━━━━━━━━━━━╇━━━━━━━━━━━━━━━━━━━━━━━━╇━━━━━━━━━━━━━━━┩\n",
              "│ conv2d (<span style=\"color: #0087ff; text-decoration-color: #0087ff\">Conv2D</span>)                 │ (<span style=\"color: #00d7ff; text-decoration-color: #00d7ff\">None</span>, <span style=\"color: #00af00; text-decoration-color: #00af00\">25</span>, <span style=\"color: #00af00; text-decoration-color: #00af00\">25</span>, <span style=\"color: #00af00; text-decoration-color: #00af00\">16</span>)     │           <span style=\"color: #00af00; text-decoration-color: #00af00\">272</span> │\n",
              "├─────────────────────────────────┼────────────────────────┼───────────────┤\n",
              "│ max_pooling2d (<span style=\"color: #0087ff; text-decoration-color: #0087ff\">MaxPooling2D</span>)    │ (<span style=\"color: #00d7ff; text-decoration-color: #00d7ff\">None</span>, <span style=\"color: #00af00; text-decoration-color: #00af00\">12</span>, <span style=\"color: #00af00; text-decoration-color: #00af00\">12</span>, <span style=\"color: #00af00; text-decoration-color: #00af00\">16</span>)     │             <span style=\"color: #00af00; text-decoration-color: #00af00\">0</span> │\n",
              "├─────────────────────────────────┼────────────────────────┼───────────────┤\n",
              "│ flatten (<span style=\"color: #0087ff; text-decoration-color: #0087ff\">Flatten</span>)               │ (<span style=\"color: #00d7ff; text-decoration-color: #00d7ff\">None</span>, <span style=\"color: #00af00; text-decoration-color: #00af00\">2304</span>)           │             <span style=\"color: #00af00; text-decoration-color: #00af00\">0</span> │\n",
              "├─────────────────────────────────┼────────────────────────┼───────────────┤\n",
              "│ dense (<span style=\"color: #0087ff; text-decoration-color: #0087ff\">Dense</span>)                   │ (<span style=\"color: #00d7ff; text-decoration-color: #00d7ff\">None</span>, <span style=\"color: #00af00; text-decoration-color: #00af00\">128</span>)            │       <span style=\"color: #00af00; text-decoration-color: #00af00\">295,040</span> │\n",
              "├─────────────────────────────────┼────────────────────────┼───────────────┤\n",
              "│ dense_1 (<span style=\"color: #0087ff; text-decoration-color: #0087ff\">Dense</span>)                 │ (<span style=\"color: #00d7ff; text-decoration-color: #00d7ff\">None</span>, <span style=\"color: #00af00; text-decoration-color: #00af00\">10</span>)             │         <span style=\"color: #00af00; text-decoration-color: #00af00\">1,290</span> │\n",
              "└─────────────────────────────────┴────────────────────────┴───────────────┘\n",
              "</pre>\n"
            ]
          },
          "metadata": {}
        },
        {
          "output_type": "display_data",
          "data": {
            "text/plain": [
              "\u001b[1m Total params: \u001b[0m\u001b[38;5;34m296,602\u001b[0m (1.13 MB)\n"
            ],
            "text/html": [
              "<pre style=\"white-space:pre;overflow-x:auto;line-height:normal;font-family:Menlo,'DejaVu Sans Mono',consolas,'Courier New',monospace\"><span style=\"font-weight: bold\"> Total params: </span><span style=\"color: #00af00; text-decoration-color: #00af00\">296,602</span> (1.13 MB)\n",
              "</pre>\n"
            ]
          },
          "metadata": {}
        },
        {
          "output_type": "display_data",
          "data": {
            "text/plain": [
              "\u001b[1m Trainable params: \u001b[0m\u001b[38;5;34m296,602\u001b[0m (1.13 MB)\n"
            ],
            "text/html": [
              "<pre style=\"white-space:pre;overflow-x:auto;line-height:normal;font-family:Menlo,'DejaVu Sans Mono',consolas,'Courier New',monospace\"><span style=\"font-weight: bold\"> Trainable params: </span><span style=\"color: #00af00; text-decoration-color: #00af00\">296,602</span> (1.13 MB)\n",
              "</pre>\n"
            ]
          },
          "metadata": {}
        },
        {
          "output_type": "display_data",
          "data": {
            "text/plain": [
              "\u001b[1m Non-trainable params: \u001b[0m\u001b[38;5;34m0\u001b[0m (0.00 B)\n"
            ],
            "text/html": [
              "<pre style=\"white-space:pre;overflow-x:auto;line-height:normal;font-family:Menlo,'DejaVu Sans Mono',consolas,'Courier New',monospace\"><span style=\"font-weight: bold\"> Non-trainable params: </span><span style=\"color: #00af00; text-decoration-color: #00af00\">0</span> (0.00 B)\n",
              "</pre>\n"
            ]
          },
          "metadata": {}
        }
      ]
    },
    {
      "cell_type": "markdown",
      "source": [
        "# Model Training"
      ],
      "metadata": {
        "id": "JlhmvKbvsVHy"
      }
    },
    {
      "cell_type": "code",
      "source": [
        "from tensorflow.keras.callbacks import EarlyStopping\n",
        "early_stop = EarlyStopping(monitor='val_loss', patience=2)"
      ],
      "metadata": {
        "id": "hysvxDgFsdU_"
      },
      "execution_count": 34,
      "outputs": []
    },
    {
      "cell_type": "code",
      "source": [
        "model.fit(x_train, y_cat_train, epochs=10, validation_data=(x_test,y_cat_test),callbacks=[early_stop])"
      ],
      "metadata": {
        "colab": {
          "base_uri": "https://localhost:8080/"
        },
        "id": "lL8CH6-Qsv_O",
        "outputId": "1347b0c8-6cc7-4384-c9fa-0c466467222d"
      },
      "execution_count": 35,
      "outputs": [
        {
          "output_type": "stream",
          "name": "stdout",
          "text": [
            "Epoch 1/10\n",
            "\u001b[1m1875/1875\u001b[0m \u001b[32m━━━━━━━━━━━━━━━━━━━━\u001b[0m\u001b[37m\u001b[0m \u001b[1m34s\u001b[0m 17ms/step - accuracy: 0.9054 - loss: 0.3139 - val_accuracy: 0.9749 - val_loss: 0.0759\n",
            "Epoch 2/10\n",
            "\u001b[1m1875/1875\u001b[0m \u001b[32m━━━━━━━━━━━━━━━━━━━━\u001b[0m\u001b[37m\u001b[0m \u001b[1m30s\u001b[0m 16ms/step - accuracy: 0.9822 - loss: 0.0592 - val_accuracy: 0.9851 - val_loss: 0.0479\n",
            "Epoch 3/10\n",
            "\u001b[1m1875/1875\u001b[0m \u001b[32m━━━━━━━━━━━━━━━━━━━━\u001b[0m\u001b[37m\u001b[0m \u001b[1m30s\u001b[0m 16ms/step - accuracy: 0.9890 - loss: 0.0359 - val_accuracy: 0.9862 - val_loss: 0.0393\n",
            "Epoch 4/10\n",
            "\u001b[1m1875/1875\u001b[0m \u001b[32m━━━━━━━━━━━━━━━━━━━━\u001b[0m\u001b[37m\u001b[0m \u001b[1m31s\u001b[0m 16ms/step - accuracy: 0.9915 - loss: 0.0265 - val_accuracy: 0.9860 - val_loss: 0.0408\n",
            "Epoch 5/10\n",
            "\u001b[1m1875/1875\u001b[0m \u001b[32m━━━━━━━━━━━━━━━━━━━━\u001b[0m\u001b[37m\u001b[0m \u001b[1m40s\u001b[0m 16ms/step - accuracy: 0.9948 - loss: 0.0166 - val_accuracy: 0.9874 - val_loss: 0.0372\n",
            "Epoch 6/10\n",
            "\u001b[1m1875/1875\u001b[0m \u001b[32m━━━━━━━━━━━━━━━━━━━━\u001b[0m\u001b[37m\u001b[0m \u001b[1m29s\u001b[0m 15ms/step - accuracy: 0.9957 - loss: 0.0122 - val_accuracy: 0.9872 - val_loss: 0.0436\n",
            "Epoch 7/10\n",
            "\u001b[1m1875/1875\u001b[0m \u001b[32m━━━━━━━━━━━━━━━━━━━━\u001b[0m\u001b[37m\u001b[0m \u001b[1m30s\u001b[0m 16ms/step - accuracy: 0.9964 - loss: 0.0111 - val_accuracy: 0.9857 - val_loss: 0.0464\n"
          ]
        },
        {
          "output_type": "execute_result",
          "data": {
            "text/plain": [
              "<keras.src.callbacks.history.History at 0x7c54b4a53ec0>"
            ]
          },
          "metadata": {},
          "execution_count": 35
        }
      ]
    },
    {
      "cell_type": "code",
      "source": [
        "losses= pd.DataFrame(model.history.history)"
      ],
      "metadata": {
        "id": "xcDdLuVAuXew"
      },
      "execution_count": 36,
      "outputs": []
    },
    {
      "cell_type": "markdown",
      "source": [
        "## Model Predictions"
      ],
      "metadata": {
        "id": "otF7WDPlun-R"
      }
    },
    {
      "cell_type": "code",
      "source": [
        "predictions = model.predict(x_test)\n",
        "predictions = np.argmax(predictions, axis=-1)"
      ],
      "metadata": {
        "colab": {
          "base_uri": "https://localhost:8080/"
        },
        "id": "DpaZGQgRurok",
        "outputId": "8b43f1e4-5c95-4477-ecb3-6459c78137e7"
      },
      "execution_count": 38,
      "outputs": [
        {
          "output_type": "stream",
          "name": "stdout",
          "text": [
            "\u001b[1m313/313\u001b[0m \u001b[32m━━━━━━━━━━━━━━━━━━━━\u001b[0m\u001b[37m\u001b[0m \u001b[1m1s\u001b[0m 4ms/step\n"
          ]
        }
      ]
    },
    {
      "cell_type": "code",
      "source": [
        "y_cat_test.shape"
      ],
      "metadata": {
        "colab": {
          "base_uri": "https://localhost:8080/"
        },
        "id": "wFRsVLrVvNrP",
        "outputId": "bf890934-9c3b-4ef4-decb-036ae8a67c51"
      },
      "execution_count": 39,
      "outputs": [
        {
          "output_type": "execute_result",
          "data": {
            "text/plain": [
              "(10000, 10)"
            ]
          },
          "metadata": {},
          "execution_count": 39
        }
      ]
    },
    {
      "cell_type": "code",
      "source": [
        "y_cat_test[0]"
      ],
      "metadata": {
        "colab": {
          "base_uri": "https://localhost:8080/"
        },
        "id": "GV16-p76vSpW",
        "outputId": "d69bb58e-1a46-49dc-90bd-90fdbf771ec2"
      },
      "execution_count": 40,
      "outputs": [
        {
          "output_type": "execute_result",
          "data": {
            "text/plain": [
              "array([0., 0., 0., 0., 0., 0., 0., 1., 0., 0.])"
            ]
          },
          "metadata": {},
          "execution_count": 40
        }
      ]
    },
    {
      "cell_type": "code",
      "source": [
        "predictions[0]"
      ],
      "metadata": {
        "colab": {
          "base_uri": "https://localhost:8080/"
        },
        "id": "FApRmHl8vXMb",
        "outputId": "ba0ed3b6-7d40-437f-8100-8df688d9d36f"
      },
      "execution_count": 41,
      "outputs": [
        {
          "output_type": "execute_result",
          "data": {
            "text/plain": [
              "np.int64(7)"
            ]
          },
          "metadata": {},
          "execution_count": 41
        }
      ]
    },
    {
      "cell_type": "code",
      "source": [
        "y_test"
      ],
      "metadata": {
        "colab": {
          "base_uri": "https://localhost:8080/"
        },
        "id": "7Np0QJg_vbvi",
        "outputId": "67694061-2ad6-4aa8-dcc9-6e5c6240bd55"
      },
      "execution_count": 42,
      "outputs": [
        {
          "output_type": "execute_result",
          "data": {
            "text/plain": [
              "array([7, 2, 1, ..., 4, 5, 6], dtype=uint8)"
            ]
          },
          "metadata": {},
          "execution_count": 42
        }
      ]
    },
    {
      "cell_type": "markdown",
      "source": [
        "## Model Evaluation"
      ],
      "metadata": {
        "id": "vT8-O8jWvf43"
      }
    },
    {
      "cell_type": "code",
      "source": [
        "model.metrics_names"
      ],
      "metadata": {
        "colab": {
          "base_uri": "https://localhost:8080/"
        },
        "id": "GoKWPrMDvxE8",
        "outputId": "fcf79f96-dc2d-4581-ea4e-36d6cc3c2c54"
      },
      "execution_count": 43,
      "outputs": [
        {
          "output_type": "execute_result",
          "data": {
            "text/plain": [
              "['loss', 'compile_metrics']"
            ]
          },
          "metadata": {},
          "execution_count": 43
        }
      ]
    },
    {
      "cell_type": "code",
      "source": [
        "losses.head()"
      ],
      "metadata": {
        "colab": {
          "base_uri": "https://localhost:8080/",
          "height": 206
        },
        "id": "l1dfimSev4nC",
        "outputId": "02623d4a-da05-4a58-9749-748465206247"
      },
      "execution_count": 44,
      "outputs": [
        {
          "output_type": "execute_result",
          "data": {
            "text/plain": [
              "   accuracy      loss  val_accuracy  val_loss\n",
              "0  0.951417  0.162653        0.9749  0.075853\n",
              "1  0.982750  0.057356        0.9851  0.047878\n",
              "2  0.988500  0.037396        0.9862  0.039301\n",
              "3  0.991033  0.027789        0.9860  0.040815\n",
              "4  0.994017  0.019228        0.9874  0.037242"
            ],
            "text/html": [
              "\n",
              "  <div id=\"df-301e8e1f-ae20-4213-a8fa-58f2070b4b2f\" class=\"colab-df-container\">\n",
              "    <div>\n",
              "<style scoped>\n",
              "    .dataframe tbody tr th:only-of-type {\n",
              "        vertical-align: middle;\n",
              "    }\n",
              "\n",
              "    .dataframe tbody tr th {\n",
              "        vertical-align: top;\n",
              "    }\n",
              "\n",
              "    .dataframe thead th {\n",
              "        text-align: right;\n",
              "    }\n",
              "</style>\n",
              "<table border=\"1\" class=\"dataframe\">\n",
              "  <thead>\n",
              "    <tr style=\"text-align: right;\">\n",
              "      <th></th>\n",
              "      <th>accuracy</th>\n",
              "      <th>loss</th>\n",
              "      <th>val_accuracy</th>\n",
              "      <th>val_loss</th>\n",
              "    </tr>\n",
              "  </thead>\n",
              "  <tbody>\n",
              "    <tr>\n",
              "      <th>0</th>\n",
              "      <td>0.951417</td>\n",
              "      <td>0.162653</td>\n",
              "      <td>0.9749</td>\n",
              "      <td>0.075853</td>\n",
              "    </tr>\n",
              "    <tr>\n",
              "      <th>1</th>\n",
              "      <td>0.982750</td>\n",
              "      <td>0.057356</td>\n",
              "      <td>0.9851</td>\n",
              "      <td>0.047878</td>\n",
              "    </tr>\n",
              "    <tr>\n",
              "      <th>2</th>\n",
              "      <td>0.988500</td>\n",
              "      <td>0.037396</td>\n",
              "      <td>0.9862</td>\n",
              "      <td>0.039301</td>\n",
              "    </tr>\n",
              "    <tr>\n",
              "      <th>3</th>\n",
              "      <td>0.991033</td>\n",
              "      <td>0.027789</td>\n",
              "      <td>0.9860</td>\n",
              "      <td>0.040815</td>\n",
              "    </tr>\n",
              "    <tr>\n",
              "      <th>4</th>\n",
              "      <td>0.994017</td>\n",
              "      <td>0.019228</td>\n",
              "      <td>0.9874</td>\n",
              "      <td>0.037242</td>\n",
              "    </tr>\n",
              "  </tbody>\n",
              "</table>\n",
              "</div>\n",
              "    <div class=\"colab-df-buttons\">\n",
              "\n",
              "  <div class=\"colab-df-container\">\n",
              "    <button class=\"colab-df-convert\" onclick=\"convertToInteractive('df-301e8e1f-ae20-4213-a8fa-58f2070b4b2f')\"\n",
              "            title=\"Convert this dataframe to an interactive table.\"\n",
              "            style=\"display:none;\">\n",
              "\n",
              "  <svg xmlns=\"http://www.w3.org/2000/svg\" height=\"24px\" viewBox=\"0 -960 960 960\">\n",
              "    <path d=\"M120-120v-720h720v720H120Zm60-500h600v-160H180v160Zm220 220h160v-160H400v160Zm0 220h160v-160H400v160ZM180-400h160v-160H180v160Zm440 0h160v-160H620v160ZM180-180h160v-160H180v160Zm440 0h160v-160H620v160Z\"/>\n",
              "  </svg>\n",
              "    </button>\n",
              "\n",
              "  <style>\n",
              "    .colab-df-container {\n",
              "      display:flex;\n",
              "      gap: 12px;\n",
              "    }\n",
              "\n",
              "    .colab-df-convert {\n",
              "      background-color: #E8F0FE;\n",
              "      border: none;\n",
              "      border-radius: 50%;\n",
              "      cursor: pointer;\n",
              "      display: none;\n",
              "      fill: #1967D2;\n",
              "      height: 32px;\n",
              "      padding: 0 0 0 0;\n",
              "      width: 32px;\n",
              "    }\n",
              "\n",
              "    .colab-df-convert:hover {\n",
              "      background-color: #E2EBFA;\n",
              "      box-shadow: 0px 1px 2px rgba(60, 64, 67, 0.3), 0px 1px 3px 1px rgba(60, 64, 67, 0.15);\n",
              "      fill: #174EA6;\n",
              "    }\n",
              "\n",
              "    .colab-df-buttons div {\n",
              "      margin-bottom: 4px;\n",
              "    }\n",
              "\n",
              "    [theme=dark] .colab-df-convert {\n",
              "      background-color: #3B4455;\n",
              "      fill: #D2E3FC;\n",
              "    }\n",
              "\n",
              "    [theme=dark] .colab-df-convert:hover {\n",
              "      background-color: #434B5C;\n",
              "      box-shadow: 0px 1px 3px 1px rgba(0, 0, 0, 0.15);\n",
              "      filter: drop-shadow(0px 1px 2px rgba(0, 0, 0, 0.3));\n",
              "      fill: #FFFFFF;\n",
              "    }\n",
              "  </style>\n",
              "\n",
              "    <script>\n",
              "      const buttonEl =\n",
              "        document.querySelector('#df-301e8e1f-ae20-4213-a8fa-58f2070b4b2f button.colab-df-convert');\n",
              "      buttonEl.style.display =\n",
              "        google.colab.kernel.accessAllowed ? 'block' : 'none';\n",
              "\n",
              "      async function convertToInteractive(key) {\n",
              "        const element = document.querySelector('#df-301e8e1f-ae20-4213-a8fa-58f2070b4b2f');\n",
              "        const dataTable =\n",
              "          await google.colab.kernel.invokeFunction('convertToInteractive',\n",
              "                                                    [key], {});\n",
              "        if (!dataTable) return;\n",
              "\n",
              "        const docLinkHtml = 'Like what you see? Visit the ' +\n",
              "          '<a target=\"_blank\" href=https://colab.research.google.com/notebooks/data_table.ipynb>data table notebook</a>'\n",
              "          + ' to learn more about interactive tables.';\n",
              "        element.innerHTML = '';\n",
              "        dataTable['output_type'] = 'display_data';\n",
              "        await google.colab.output.renderOutput(dataTable, element);\n",
              "        const docLink = document.createElement('div');\n",
              "        docLink.innerHTML = docLinkHtml;\n",
              "        element.appendChild(docLink);\n",
              "      }\n",
              "    </script>\n",
              "  </div>\n",
              "\n",
              "\n",
              "    <div id=\"df-69f3b9a1-4ed5-4911-aa98-bbe6fc9b543f\">\n",
              "      <button class=\"colab-df-quickchart\" onclick=\"quickchart('df-69f3b9a1-4ed5-4911-aa98-bbe6fc9b543f')\"\n",
              "                title=\"Suggest charts\"\n",
              "                style=\"display:none;\">\n",
              "\n",
              "<svg xmlns=\"http://www.w3.org/2000/svg\" height=\"24px\"viewBox=\"0 0 24 24\"\n",
              "     width=\"24px\">\n",
              "    <g>\n",
              "        <path d=\"M19 3H5c-1.1 0-2 .9-2 2v14c0 1.1.9 2 2 2h14c1.1 0 2-.9 2-2V5c0-1.1-.9-2-2-2zM9 17H7v-7h2v7zm4 0h-2V7h2v10zm4 0h-2v-4h2v4z\"/>\n",
              "    </g>\n",
              "</svg>\n",
              "      </button>\n",
              "\n",
              "<style>\n",
              "  .colab-df-quickchart {\n",
              "      --bg-color: #E8F0FE;\n",
              "      --fill-color: #1967D2;\n",
              "      --hover-bg-color: #E2EBFA;\n",
              "      --hover-fill-color: #174EA6;\n",
              "      --disabled-fill-color: #AAA;\n",
              "      --disabled-bg-color: #DDD;\n",
              "  }\n",
              "\n",
              "  [theme=dark] .colab-df-quickchart {\n",
              "      --bg-color: #3B4455;\n",
              "      --fill-color: #D2E3FC;\n",
              "      --hover-bg-color: #434B5C;\n",
              "      --hover-fill-color: #FFFFFF;\n",
              "      --disabled-bg-color: #3B4455;\n",
              "      --disabled-fill-color: #666;\n",
              "  }\n",
              "\n",
              "  .colab-df-quickchart {\n",
              "    background-color: var(--bg-color);\n",
              "    border: none;\n",
              "    border-radius: 50%;\n",
              "    cursor: pointer;\n",
              "    display: none;\n",
              "    fill: var(--fill-color);\n",
              "    height: 32px;\n",
              "    padding: 0;\n",
              "    width: 32px;\n",
              "  }\n",
              "\n",
              "  .colab-df-quickchart:hover {\n",
              "    background-color: var(--hover-bg-color);\n",
              "    box-shadow: 0 1px 2px rgba(60, 64, 67, 0.3), 0 1px 3px 1px rgba(60, 64, 67, 0.15);\n",
              "    fill: var(--button-hover-fill-color);\n",
              "  }\n",
              "\n",
              "  .colab-df-quickchart-complete:disabled,\n",
              "  .colab-df-quickchart-complete:disabled:hover {\n",
              "    background-color: var(--disabled-bg-color);\n",
              "    fill: var(--disabled-fill-color);\n",
              "    box-shadow: none;\n",
              "  }\n",
              "\n",
              "  .colab-df-spinner {\n",
              "    border: 2px solid var(--fill-color);\n",
              "    border-color: transparent;\n",
              "    border-bottom-color: var(--fill-color);\n",
              "    animation:\n",
              "      spin 1s steps(1) infinite;\n",
              "  }\n",
              "\n",
              "  @keyframes spin {\n",
              "    0% {\n",
              "      border-color: transparent;\n",
              "      border-bottom-color: var(--fill-color);\n",
              "      border-left-color: var(--fill-color);\n",
              "    }\n",
              "    20% {\n",
              "      border-color: transparent;\n",
              "      border-left-color: var(--fill-color);\n",
              "      border-top-color: var(--fill-color);\n",
              "    }\n",
              "    30% {\n",
              "      border-color: transparent;\n",
              "      border-left-color: var(--fill-color);\n",
              "      border-top-color: var(--fill-color);\n",
              "      border-right-color: var(--fill-color);\n",
              "    }\n",
              "    40% {\n",
              "      border-color: transparent;\n",
              "      border-right-color: var(--fill-color);\n",
              "      border-top-color: var(--fill-color);\n",
              "    }\n",
              "    60% {\n",
              "      border-color: transparent;\n",
              "      border-right-color: var(--fill-color);\n",
              "    }\n",
              "    80% {\n",
              "      border-color: transparent;\n",
              "      border-right-color: var(--fill-color);\n",
              "      border-bottom-color: var(--fill-color);\n",
              "    }\n",
              "    90% {\n",
              "      border-color: transparent;\n",
              "      border-bottom-color: var(--fill-color);\n",
              "    }\n",
              "  }\n",
              "</style>\n",
              "\n",
              "      <script>\n",
              "        async function quickchart(key) {\n",
              "          const quickchartButtonEl =\n",
              "            document.querySelector('#' + key + ' button');\n",
              "          quickchartButtonEl.disabled = true;  // To prevent multiple clicks.\n",
              "          quickchartButtonEl.classList.add('colab-df-spinner');\n",
              "          try {\n",
              "            const charts = await google.colab.kernel.invokeFunction(\n",
              "                'suggestCharts', [key], {});\n",
              "          } catch (error) {\n",
              "            console.error('Error during call to suggestCharts:', error);\n",
              "          }\n",
              "          quickchartButtonEl.classList.remove('colab-df-spinner');\n",
              "          quickchartButtonEl.classList.add('colab-df-quickchart-complete');\n",
              "        }\n",
              "        (() => {\n",
              "          let quickchartButtonEl =\n",
              "            document.querySelector('#df-69f3b9a1-4ed5-4911-aa98-bbe6fc9b543f button');\n",
              "          quickchartButtonEl.style.display =\n",
              "            google.colab.kernel.accessAllowed ? 'block' : 'none';\n",
              "        })();\n",
              "      </script>\n",
              "    </div>\n",
              "\n",
              "    </div>\n",
              "  </div>\n"
            ],
            "application/vnd.google.colaboratory.intrinsic+json": {
              "type": "dataframe",
              "variable_name": "losses",
              "summary": "{\n  \"name\": \"losses\",\n  \"rows\": 7,\n  \"fields\": [\n    {\n      \"column\": \"accuracy\",\n      \"properties\": {\n        \"dtype\": \"number\",\n        \"std\": 0.015763804067850974,\n        \"min\": 0.9514166712760925,\n        \"max\": 0.996066689491272,\n        \"num_unique_values\": 7,\n        \"samples\": [\n          0.9514166712760925,\n          0.9827499985694885,\n          0.9954000115394592\n        ],\n        \"semantic_type\": \"\",\n        \"description\": \"\"\n      }\n    },\n    {\n      \"column\": \"loss\",\n      \"properties\": {\n        \"dtype\": \"number\",\n        \"std\": 0.0532252985129061,\n        \"min\": 0.012178146280348301,\n        \"max\": 0.1626531183719635,\n        \"num_unique_values\": 7,\n        \"samples\": [\n          0.1626531183719635,\n          0.05735606327652931,\n          0.014288532547652721\n        ],\n        \"semantic_type\": \"\",\n        \"description\": \"\"\n      }\n    },\n    {\n      \"column\": \"val_accuracy\",\n      \"properties\": {\n        \"dtype\": \"number\",\n        \"std\": 0.004371441613471979,\n        \"min\": 0.9749000072479248,\n        \"max\": 0.9873999953269958,\n        \"num_unique_values\": 7,\n        \"samples\": [\n          0.9749000072479248,\n          0.9850999712944031,\n          0.9872000217437744\n        ],\n        \"semantic_type\": \"\",\n        \"description\": \"\"\n      }\n    },\n    {\n      \"column\": \"val_loss\",\n      \"properties\": {\n        \"dtype\": \"number\",\n        \"std\": 0.01314991825195664,\n        \"min\": 0.037241846323013306,\n        \"max\": 0.0758529081940651,\n        \"num_unique_values\": 7,\n        \"samples\": [\n          0.0758529081940651,\n          0.04787815734744072,\n          0.04356697201728821\n        ],\n        \"semantic_type\": \"\",\n        \"description\": \"\"\n      }\n    }\n  ]\n}"
            }
          },
          "metadata": {},
          "execution_count": 44
        }
      ]
    },
    {
      "cell_type": "code",
      "source": [
        "losses[['accuracy', 'val_accuracy']].plot();"
      ],
      "metadata": {
        "colab": {
          "base_uri": "https://localhost:8080/",
          "height": 430
        },
        "id": "PaTkQP_cv8HW",
        "outputId": "97eb5fe8-23eb-4ab9-c5ba-64c56d1f6cdc"
      },
      "execution_count": 45,
      "outputs": [
        {
          "output_type": "display_data",
          "data": {
            "text/plain": [
              "<Figure size 640x480 with 1 Axes>"
            ],
            "image/png": "[encoded data removed]"
          },
          "metadata": {}
        }
      ]
    },
    {
      "cell_type": "code",
      "source": [
        "losses[['loss','val_loss']].plot();"
      ],
      "metadata": {
        "colab": {
          "base_uri": "https://localhost:8080/",
          "height": 430
        },
        "id": "9CfzZsmrwImw",
        "outputId": "9ac75d47-4863-4534-bd5c-8439e0876cfb"
      },
      "execution_count": 46,
      "outputs": [
        {
          "output_type": "display_data",
          "data": {
            "text/plain": [
              "<Figure size 640x480 with 1 Axes>"
            ],
            "image/png": "[encoded data removed]"
          },
          "metadata": {}
        }
      ]
    },
    {
      "cell_type": "code",
      "source": [
        "print(model.metrics_names)\n",
        "print(model.evaluate(x_test,y_cat_test, verbose=0))"
      ],
      "metadata": {
        "colab": {
          "base_uri": "https://localhost:8080/"
        },
        "id": "Iwlk_yE-wR_5",
        "outputId": "21565611-f20a-41c5-caa2-64cdb0758143"
      },
      "execution_count": 47,
      "outputs": [
        {
          "output_type": "stream",
          "name": "stdout",
          "text": [
            "['loss', 'compile_metrics']\n",
            "[0.04642297700047493, 0.9857000112533569]\n"
          ]
        }
      ]
    },
    {
      "cell_type": "code",
      "source": [
        "from sklearn.metrics import classification_report, confusion_matrix\n",
        "\n",
        "print(classification_report(y_test, predictions))\n",
        "print(confusion_matrix(y_test, predictions))"
      ],
      "metadata": {
        "colab": {
          "base_uri": "https://localhost:8080/"
        },
        "id": "cI5sA1b7whRE",
        "outputId": "1cc26c30-762e-4d24-91c0-93cfab3c2a3f"
      },
      "execution_count": 48,
      "outputs": [
        {
          "output_type": "stream",
          "name": "stdout",
          "text": [
            "              precision    recall  f1-score   support\n",
            "\n",
            "           0       0.99      0.99      0.99       980\n",
            "           1       0.99      1.00      0.99      1135\n",
            "           2       0.99      0.98      0.98      1032\n",
            "           3       1.00      0.98      0.99      1010\n",
            "           4       0.99      0.98      0.99       982\n",
            "           5       0.99      0.99      0.99       892\n",
            "           6       0.99      0.99      0.99       958\n",
            "           7       0.98      0.98      0.98      1028\n",
            "           8       0.97      0.99      0.98       974\n",
            "           9       0.98      0.98      0.98      1009\n",
            "\n",
            "    accuracy                           0.99     10000\n",
            "   macro avg       0.99      0.99      0.99     10000\n",
            "weighted avg       0.99      0.99      0.99     10000\n",
            "\n",
            "[[ 973    1    0    0    0    0    3    1    2    0]\n",
            " [   0 1131    0    1    0    0    1    1    1    0]\n",
            " [   1    4 1009    0    1    0    1    7    8    1]\n",
            " [   3    1    2  985    0    7    0    1   10    1]\n",
            " [   0    0    1    0  966    0    1    0    2   12]\n",
            " [   2    0    0    1    0  885    2    1    1    0]\n",
            " [   4    2    0    0    1    0  949    0    2    0]\n",
            " [   0    4    9    0    0    0    0 1010    2    3]\n",
            " [   3    0    1    0    1    0    1    2  964    2]\n",
            " [   1    2    0    0    6    5    1    5    4  985]]\n"
          ]
        }
      ]
    },
    {
      "cell_type": "code",
      "source": [
        "import seaborn as sns\n",
        "plt.figure(figsize=(10,6))\n",
        "sns.heatmap(confusion_matrix(y_test,predictions), annot=True)"
      ],
      "metadata": {
        "colab": {
          "base_uri": "https://localhost:8080/",
          "height": 540
        },
        "id": "ew4PgO2Zw5F1",
        "outputId": "e8592d9a-c959-44fe-8483-a57e58f64572"
      },
      "execution_count": 51,
      "outputs": [
        {
          "output_type": "execute_result",
          "data": {
            "text/plain": [
              "<Axes: >"
            ]
          },
          "metadata": {},
          "execution_count": 51
        },
        {
          "output_type": "display_data",
          "data": {
            "text/plain": [
              "<Figure size 1000x600 with 2 Axes>"
            ],
            "image/png": "[encoded data removed]"
          },
          "metadata": {}
        }
      ]
    },
    {
      "cell_type": "markdown",
      "source": [
        "# Predicting on one DATA Point"
      ],
      "metadata": {
        "id": "1OgvUamexXXS"
      }
    },
    {
      "cell_type": "code",
      "source": [
        "my_number = x_test[0] # (28,28,1)\n",
        "plt.imshow(my_number.reshape(28,28), cmap='binary');"
      ],
      "metadata": {
        "colab": {
          "base_uri": "https://localhost:8080/",
          "height": 430
        },
        "id": "gXOIwUqvxezO",
        "outputId": "047fc6d2-e0af-4618-a694-5e5d8c1a5646"
      },
      "execution_count": 52,
      "outputs": [
        {
          "output_type": "display_data",
          "data": {
            "text/plain": [
              "<Figure size 640x480 with 1 Axes>"
            ],
            "image/png": "[encoded data removed]"
          },
          "metadata": {}
        }
      ]
    },
    {
      "cell_type": "code",
      "source": [
        "# SHAPE --> (num_images, width,height,color_channels)\n",
        "my_prediction= model.predict(my_number.reshape(1,28,28,1))\n",
        "my_prediction = np.argmax(my_prediction, axis=-1)\n",
        "print(my_prediction)"
      ],
      "metadata": {
        "colab": {
          "base_uri": "https://localhost:8080/"
        },
        "id": "mciz_JMgxyYG",
        "outputId": "235799ac-e40c-42e2-be34-b0a16125b3ba"
      },
      "execution_count": 53,
      "outputs": [
        {
          "output_type": "stream",
          "name": "stdout",
          "text": [
            "\u001b[1m1/1\u001b[0m \u001b[32m━━━━━━━━━━━━━━━━━━━━\u001b[0m\u001b[37m\u001b[0m \u001b[1m0s\u001b[0m 60ms/step\n",
            "[7]\n"
          ]
        }
      ]
    }
  ]
}